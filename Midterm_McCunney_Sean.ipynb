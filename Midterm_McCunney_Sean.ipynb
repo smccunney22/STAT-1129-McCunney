{
 "cells": [
  {
   "cell_type": "code",
   "execution_count": 6,
   "metadata": {},
   "outputs": [
    {
     "data": {
      "text/plain": [
       "{2: 4, 4: 5, 6: 6, 8: 3, 5: 2, 1: 3, 9: 5, 0: 2, 7: 4, 3: 5, 10: 3}"
      ]
     },
     "execution_count": 6,
     "metadata": {},
     "output_type": "execute_result"
    }
   ],
   "source": [
    "#Question 1\n",
    "#create the list of unsorted elements\n",
    "list = [2,4,6,8,4,5,2,1,9,0,4,6,7,4, 3,2,1,9,10,3,7,9,6,0,1,3,5,6,7,8,9,10,2,3,6,8,9,10,6,7,4,3]\n",
    "\n",
    "#create a blank dictionary\n",
    "numfrequency = {}\n",
    "\n",
    "#count the freq of elements and store in the blank dictionary\n",
    "for num in list:\n",
    "   if (num in numfrequency):\n",
    "      numfrequency[num] += 1\n",
    "   else:\n",
    "      numfrequency[num] = 1\n",
    "        \n",
    "#print dictionary to confirm\n",
    "numfrequency"
   ]
  },
  {
   "cell_type": "code",
   "execution_count": 7,
   "metadata": {},
   "outputs": [
    {
     "data": {
      "image/png": "[encoded data removed]",
      "text/plain": [
       "<Figure size 432x288 with 1 Axes>"
      ]
     },
     "metadata": {
      "needs_background": "light"
     },
     "output_type": "display_data"
    }
   ],
   "source": [
    "import matplotlib.pyplot as plt\n",
    "\n",
    "#name the ind and dep variables from dictionary\n",
    "num = numfrequency.keys()\n",
    "freq = numfrequency.values()\n",
    "\n",
    "#specify parameters of plot\n",
    "plt.bar(num, freq)\n",
    "plt.xlabel(\"Element\")\n",
    "plt.ylabel(\"Frequency\")\n",
    "plt.show()"
   ]
  },
  {
   "cell_type": "code",
   "execution_count": 8,
   "metadata": {},
   "outputs": [
    {
     "data": {
      "text/plain": [
       "'{\"2\": 4, \"4\": 5, \"6\": 6, \"8\": 3, \"5\": 2, \"1\": 3, \"9\": 5, \"0\": 2, \"7\": 4, \"3\": 5, \"10\": 3}'"
      ]
     },
     "execution_count": 8,
     "metadata": {},
     "output_type": "execute_result"
    }
   ],
   "source": [
    "#convert to Json\n",
    "import json\n",
    "y = json.dumps(numfrequency)\n",
    "y"
   ]
  },
  {
   "cell_type": "code",
   "execution_count": 9,
   "metadata": {},
   "outputs": [
    {
     "data": {
      "text/html": [
       "<div>\n",
       "<style scoped>\n",
       "    .dataframe tbody tr th:only-of-type {\n",
       "        vertical-align: middle;\n",
       "    }\n",
       "\n",
       "    .dataframe tbody tr th {\n",
       "        vertical-align: top;\n",
       "    }\n",
       "\n",
       "    .dataframe thead th {\n",
       "        text-align: right;\n",
       "    }\n",
       "</style>\n",
       "<table border=\"1\" class=\"dataframe\">\n",
       "  <thead>\n",
       "    <tr style=\"text-align: right;\">\n",
       "      <th></th>\n",
       "      <th>Order Date</th>\n",
       "      <th>Order ID</th>\n",
       "      <th>Website</th>\n",
       "      <th>Shipment Date</th>\n",
       "      <th>Shipping Address Name</th>\n",
       "      <th>Shipping Address City</th>\n",
       "      <th>Shipping Address State</th>\n",
       "      <th>Order Status</th>\n",
       "      <th>Subtotal</th>\n",
       "      <th>Shipping Charge</th>\n",
       "      <th>Tax Before Promotions</th>\n",
       "      <th>Total Promotions</th>\n",
       "      <th>Tax Charged</th>\n",
       "      <th>Total Charged</th>\n",
       "      <th>Buyer Name</th>\n",
       "    </tr>\n",
       "  </thead>\n",
       "  <tbody>\n",
       "    <tr>\n",
       "      <th>0</th>\n",
       "      <td>9/12/2018</td>\n",
       "      <td>114-2578888-2473057</td>\n",
       "      <td>Amazon.com</td>\n",
       "      <td>9/12/2018</td>\n",
       "      <td>Address unavailable</td>\n",
       "      <td>NaN</td>\n",
       "      <td>NaN</td>\n",
       "      <td>Shipped</td>\n",
       "      <td>$20.00</td>\n",
       "      <td>$0.00</td>\n",
       "      <td>$0.00</td>\n",
       "      <td>$0.00</td>\n",
       "      <td>$0.00</td>\n",
       "      <td>$20.00</td>\n",
       "      <td>Sean McCunney</td>\n",
       "    </tr>\n",
       "    <tr>\n",
       "      <th>1</th>\n",
       "      <td>9/12/2018</td>\n",
       "      <td>114-8941073-3909803</td>\n",
       "      <td>Amazon.com</td>\n",
       "      <td>9/12/2018</td>\n",
       "      <td>Address unavailable</td>\n",
       "      <td>NaN</td>\n",
       "      <td>NaN</td>\n",
       "      <td>Shipped</td>\n",
       "      <td>$25.00</td>\n",
       "      <td>$0.00</td>\n",
       "      <td>$0.00</td>\n",
       "      <td>$0.00</td>\n",
       "      <td>$0.00</td>\n",
       "      <td>$25.00</td>\n",
       "      <td>Sean McCunney</td>\n",
       "    </tr>\n",
       "    <tr>\n",
       "      <th>2</th>\n",
       "      <td>9/12/2018</td>\n",
       "      <td>114-6481576-4645867</td>\n",
       "      <td>Amazon.com</td>\n",
       "      <td>9/12/2018</td>\n",
       "      <td>Address unavailable</td>\n",
       "      <td>NaN</td>\n",
       "      <td>NaN</td>\n",
       "      <td>Shipped</td>\n",
       "      <td>$25.00</td>\n",
       "      <td>$0.00</td>\n",
       "      <td>$0.00</td>\n",
       "      <td>$0.00</td>\n",
       "      <td>$0.00</td>\n",
       "      <td>$25.00</td>\n",
       "      <td>Sean McCunney</td>\n",
       "    </tr>\n",
       "    <tr>\n",
       "      <th>3</th>\n",
       "      <td>9/12/2018</td>\n",
       "      <td>114-7503085-5301840</td>\n",
       "      <td>Amazon.com</td>\n",
       "      <td>9/13/2018</td>\n",
       "      <td>Sean McCunney</td>\n",
       "      <td>WASHINGTON</td>\n",
       "      <td>DC</td>\n",
       "      <td>Shipped</td>\n",
       "      <td>$31.62</td>\n",
       "      <td>$0.00</td>\n",
       "      <td>$0.96</td>\n",
       "      <td>$0.75</td>\n",
       "      <td>$0.96</td>\n",
       "      <td>$31.83</td>\n",
       "      <td>Sean McCunney</td>\n",
       "    </tr>\n",
       "    <tr>\n",
       "      <th>4</th>\n",
       "      <td>10/8/2018</td>\n",
       "      <td>114-2317993-7945801</td>\n",
       "      <td>Amazon.com</td>\n",
       "      <td>10/9/2018</td>\n",
       "      <td>Sean McCunney</td>\n",
       "      <td>WASHINGTON</td>\n",
       "      <td>DC</td>\n",
       "      <td>Shipped</td>\n",
       "      <td>$5.99</td>\n",
       "      <td>$0.00</td>\n",
       "      <td>$0.00</td>\n",
       "      <td>$0.00</td>\n",
       "      <td>$0.00</td>\n",
       "      <td>$5.99</td>\n",
       "      <td>Sean McCunney</td>\n",
       "    </tr>\n",
       "  </tbody>\n",
       "</table>\n",
       "</div>"
      ],
      "text/plain": [
       "  Order Date             Order ID     Website Shipment Date  \\\n",
       "0  9/12/2018  114-2578888-2473057  Amazon.com     9/12/2018   \n",
       "1  9/12/2018  114-8941073-3909803  Amazon.com     9/12/2018   \n",
       "2  9/12/2018  114-6481576-4645867  Amazon.com     9/12/2018   \n",
       "3  9/12/2018  114-7503085-5301840  Amazon.com     9/13/2018   \n",
       "4  10/8/2018  114-2317993-7945801  Amazon.com     10/9/2018   \n",
       "\n",
       "  Shipping Address Name Shipping Address City Shipping Address State  \\\n",
       "0   Address unavailable                   NaN                    NaN   \n",
       "1   Address unavailable                   NaN                    NaN   \n",
       "2   Address unavailable                   NaN                    NaN   \n",
       "3         Sean McCunney            WASHINGTON                     DC   \n",
       "4         Sean McCunney            WASHINGTON                     DC   \n",
       "\n",
       "  Order Status Subtotal Shipping Charge Tax Before Promotions  \\\n",
       "0      Shipped  $20.00           $0.00                 $0.00    \n",
       "1      Shipped  $25.00           $0.00                 $0.00    \n",
       "2      Shipped  $25.00           $0.00                 $0.00    \n",
       "3      Shipped  $31.62           $0.00                 $0.96    \n",
       "4      Shipped   $5.99           $0.00                 $0.00    \n",
       "\n",
       "  Total Promotions Tax Charged Total Charged     Buyer Name  \n",
       "0           $0.00       $0.00        $20.00   Sean McCunney  \n",
       "1           $0.00       $0.00        $25.00   Sean McCunney  \n",
       "2           $0.00       $0.00        $25.00   Sean McCunney  \n",
       "3           $0.75       $0.96        $31.83   Sean McCunney  \n",
       "4           $0.00       $0.00         $5.99   Sean McCunney  "
      ]
     },
     "execution_count": 9,
     "metadata": {},
     "output_type": "execute_result"
    }
   ],
   "source": [
    "#Question 2\n",
    "#import Amazon order data as a panda\n",
    "import pandas as pd\n",
    "\n",
    "data = pd.read_csv(r\"C:\\Users\\smccu\\OneDrive\\Documents\\Midterm_AmazonOrderData.csv\")\n",
    "\n",
    "#confirm the data imported correctly\n",
    "data.head()"
   ]
  },
  {
   "cell_type": "code",
   "execution_count": 10,
   "metadata": {},
   "outputs": [
    {
     "data": {
      "text/html": [
       "<div>\n",
       "<style scoped>\n",
       "    .dataframe tbody tr th:only-of-type {\n",
       "        vertical-align: middle;\n",
       "    }\n",
       "\n",
       "    .dataframe tbody tr th {\n",
       "        vertical-align: top;\n",
       "    }\n",
       "\n",
       "    .dataframe thead th {\n",
       "        text-align: right;\n",
       "    }\n",
       "</style>\n",
       "<table border=\"1\" class=\"dataframe\">\n",
       "  <thead>\n",
       "    <tr style=\"text-align: right;\">\n",
       "      <th></th>\n",
       "      <th>Order Date</th>\n",
       "      <th>Order ID</th>\n",
       "      <th>Website</th>\n",
       "      <th>Shipment Date</th>\n",
       "      <th>Shipping Address Name</th>\n",
       "      <th>Shipping Address City</th>\n",
       "      <th>Shipping Address State</th>\n",
       "      <th>Order Status</th>\n",
       "      <th>Subtotal</th>\n",
       "      <th>Shipping Charge</th>\n",
       "      <th>Tax Before Promotions</th>\n",
       "      <th>Total Promotions</th>\n",
       "      <th>Tax Charged</th>\n",
       "      <th>Total Charged</th>\n",
       "      <th>Buyer Name</th>\n",
       "    </tr>\n",
       "  </thead>\n",
       "  <tbody>\n",
       "    <tr>\n",
       "      <th>0</th>\n",
       "      <td>9/12/2018</td>\n",
       "      <td>114-2578888-2473057</td>\n",
       "      <td>Amazon.com</td>\n",
       "      <td>9/12/2018</td>\n",
       "      <td>Address unavailable</td>\n",
       "      <td>0</td>\n",
       "      <td>0</td>\n",
       "      <td>Shipped</td>\n",
       "      <td>$20.00</td>\n",
       "      <td>$0.00</td>\n",
       "      <td>$0.00</td>\n",
       "      <td>$0.00</td>\n",
       "      <td>$0.00</td>\n",
       "      <td>20.00</td>\n",
       "      <td>Sean McCunney</td>\n",
       "    </tr>\n",
       "    <tr>\n",
       "      <th>1</th>\n",
       "      <td>9/12/2018</td>\n",
       "      <td>114-8941073-3909803</td>\n",
       "      <td>Amazon.com</td>\n",
       "      <td>9/12/2018</td>\n",
       "      <td>Address unavailable</td>\n",
       "      <td>0</td>\n",
       "      <td>0</td>\n",
       "      <td>Shipped</td>\n",
       "      <td>$25.00</td>\n",
       "      <td>$0.00</td>\n",
       "      <td>$0.00</td>\n",
       "      <td>$0.00</td>\n",
       "      <td>$0.00</td>\n",
       "      <td>25.00</td>\n",
       "      <td>Sean McCunney</td>\n",
       "    </tr>\n",
       "    <tr>\n",
       "      <th>2</th>\n",
       "      <td>9/12/2018</td>\n",
       "      <td>114-6481576-4645867</td>\n",
       "      <td>Amazon.com</td>\n",
       "      <td>9/12/2018</td>\n",
       "      <td>Address unavailable</td>\n",
       "      <td>0</td>\n",
       "      <td>0</td>\n",
       "      <td>Shipped</td>\n",
       "      <td>$25.00</td>\n",
       "      <td>$0.00</td>\n",
       "      <td>$0.00</td>\n",
       "      <td>$0.00</td>\n",
       "      <td>$0.00</td>\n",
       "      <td>25.00</td>\n",
       "      <td>Sean McCunney</td>\n",
       "    </tr>\n",
       "    <tr>\n",
       "      <th>3</th>\n",
       "      <td>9/12/2018</td>\n",
       "      <td>114-7503085-5301840</td>\n",
       "      <td>Amazon.com</td>\n",
       "      <td>9/13/2018</td>\n",
       "      <td>Sean McCunney</td>\n",
       "      <td>WASHINGTON</td>\n",
       "      <td>DC</td>\n",
       "      <td>Shipped</td>\n",
       "      <td>$31.62</td>\n",
       "      <td>$0.00</td>\n",
       "      <td>$0.96</td>\n",
       "      <td>$0.75</td>\n",
       "      <td>$0.96</td>\n",
       "      <td>31.83</td>\n",
       "      <td>Sean McCunney</td>\n",
       "    </tr>\n",
       "    <tr>\n",
       "      <th>4</th>\n",
       "      <td>10/8/2018</td>\n",
       "      <td>114-2317993-7945801</td>\n",
       "      <td>Amazon.com</td>\n",
       "      <td>10/9/2018</td>\n",
       "      <td>Sean McCunney</td>\n",
       "      <td>WASHINGTON</td>\n",
       "      <td>DC</td>\n",
       "      <td>Shipped</td>\n",
       "      <td>$5.99</td>\n",
       "      <td>$0.00</td>\n",
       "      <td>$0.00</td>\n",
       "      <td>$0.00</td>\n",
       "      <td>$0.00</td>\n",
       "      <td>5.99</td>\n",
       "      <td>Sean McCunney</td>\n",
       "    </tr>\n",
       "  </tbody>\n",
       "</table>\n",
       "</div>"
      ],
      "text/plain": [
       "  Order Date             Order ID     Website Shipment Date  \\\n",
       "0  9/12/2018  114-2578888-2473057  Amazon.com     9/12/2018   \n",
       "1  9/12/2018  114-8941073-3909803  Amazon.com     9/12/2018   \n",
       "2  9/12/2018  114-6481576-4645867  Amazon.com     9/12/2018   \n",
       "3  9/12/2018  114-7503085-5301840  Amazon.com     9/13/2018   \n",
       "4  10/8/2018  114-2317993-7945801  Amazon.com     10/9/2018   \n",
       "\n",
       "  Shipping Address Name Shipping Address City Shipping Address State  \\\n",
       "0   Address unavailable                     0                      0   \n",
       "1   Address unavailable                     0                      0   \n",
       "2   Address unavailable                     0                      0   \n",
       "3         Sean McCunney            WASHINGTON                     DC   \n",
       "4         Sean McCunney            WASHINGTON                     DC   \n",
       "\n",
       "  Order Status Subtotal Shipping Charge Tax Before Promotions  \\\n",
       "0      Shipped  $20.00           $0.00                 $0.00    \n",
       "1      Shipped  $25.00           $0.00                 $0.00    \n",
       "2      Shipped  $25.00           $0.00                 $0.00    \n",
       "3      Shipped  $31.62           $0.00                 $0.96    \n",
       "4      Shipped   $5.99           $0.00                 $0.00    \n",
       "\n",
       "  Total Promotions Tax Charged  Total Charged     Buyer Name  \n",
       "0           $0.00       $0.00           20.00  Sean McCunney  \n",
       "1           $0.00       $0.00           25.00  Sean McCunney  \n",
       "2           $0.00       $0.00           25.00  Sean McCunney  \n",
       "3           $0.75       $0.96           31.83  Sean McCunney  \n",
       "4           $0.00       $0.00            5.99  Sean McCunney  "
      ]
     },
     "execution_count": 10,
     "metadata": {},
     "output_type": "execute_result"
    }
   ],
   "source": [
    "#clean data, replace empty datapoints with 0 and make \"Total Charged\" values floats\n",
    "data = data.fillna(0)\n",
    "data[\"Total Charged\"] = data[\"Total Charged\"].str.replace('$','').astype(float)\n",
    "data.head()"
   ]
  },
  {
   "cell_type": "code",
   "execution_count": 25,
   "metadata": {},
   "outputs": [
    {
     "data": {
      "image/png": "[encoded data removed]",
      "text/plain": [
       "<Figure size 432x288 with 1 Axes>"
      ]
     },
     "metadata": {
      "needs_background": "light"
     },
     "output_type": "display_data"
    }
   ],
   "source": [
    "data['Order Date'] = pd.to_datetime(data['Order Date'])\n",
    "\n",
    "data.plot.bar(x = 'Order Date', y = 'Total Charged', color='darkorange')\n",
    "plt.show()"
   ]
  },
  {
   "cell_type": "code",
   "execution_count": 12,
   "metadata": {},
   "outputs": [
    {
     "data": {
      "text/plain": [
       "1208.5899999999997"
      ]
     },
     "execution_count": 12,
     "metadata": {},
     "output_type": "execute_result"
    }
   ],
   "source": [
    "#calculate total spent on Amazon orders\n",
    "total = data['Total Charged'].sum()\n",
    "total"
   ]
  },
  {
   "cell_type": "code",
   "execution_count": 13,
   "metadata": {},
   "outputs": [
    {
     "data": {
      "text/plain": [
       "27.467954545454543"
      ]
     },
     "execution_count": 13,
     "metadata": {},
     "output_type": "execute_result"
    }
   ],
   "source": [
    "#calculate average amount spent per order on Amazon\n",
    "avg = data['Total Charged'].mean()\n",
    "avg"
   ]
  },
  {
   "cell_type": "code",
   "execution_count": 14,
   "metadata": {},
   "outputs": [
    {
     "data": {
      "text/plain": [
       "1142.7800000000002"
      ]
     },
     "execution_count": 14,
     "metadata": {},
     "output_type": "execute_result"
    }
   ],
   "source": [
    "#calculate the average amount spent per order pre-tax\n",
    "data['Subtotal'] = data['Subtotal'].str.replace('$','').astype(float)\n",
    "data['Subtotal'].sum()"
   ]
  },
  {
   "cell_type": "code",
   "execution_count": 15,
   "metadata": {},
   "outputs": [
    {
     "data": {
      "text/plain": [
       "65.80999999999949"
      ]
     },
     "execution_count": 15,
     "metadata": {},
     "output_type": "execute_result"
    }
   ],
   "source": [
    "#use the pre-tax total, and the order total to find amount spent on taxes\n",
    "taxtotal = data['Total Charged'].sum()-data['Subtotal'].sum()\n",
    "taxtotal"
   ]
  },
  {
   "cell_type": "code",
   "execution_count": null,
   "metadata": {},
   "outputs": [],
   "source": []
  }
 ],
 "metadata": {
  "kernelspec": {
   "display_name": "Python 3",
   "language": "python",
   "name": "python3"
  },
  "language_info": {
   "codemirror_mode": {
    "name": "ipython",
    "version": 3
   },
   "file_extension": ".py",
   "mimetype": "text/x-python",
   "name": "python",
   "nbconvert_exporter": "python",
   "pygments_lexer": "ipython3",
   "version": "3.8.5"
  }
 },
 "nbformat": 4,
 "nbformat_minor": 4
}
