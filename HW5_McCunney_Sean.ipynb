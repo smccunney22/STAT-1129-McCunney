{
 "cells": [
  {
   "cell_type": "code",
   "execution_count": 8,
   "metadata": {},
   "outputs": [
    {
     "name": "stdout",
     "output_type": "stream",
     "text": [
      "5:30\n"
     ]
    }
   ],
   "source": [
    "#Question 1 Test\n",
    "class Clock():\n",
    "    def __init__(self, time):\n",
    "        self.time = time\n",
    "    def print_time(self):\n",
    "        time = '6:30'\n",
    "        print(self.time)\n",
    "\n",
    "clock = Clock('5:30')\n",
    "clock.print_time()"
   ]
  },
  {
   "cell_type": "code",
   "execution_count": 9,
   "metadata": {},
   "outputs": [
    {
     "name": "stdout",
     "output_type": "stream",
     "text": [
      "10:30\n"
     ]
    }
   ],
   "source": [
    "#Question 2 Test\n",
    "class Clock():\n",
    "    def __init__(self, time):\n",
    "        self.time = time\n",
    "    def print_time(self, time):\n",
    "        print(time)\n",
    "\n",
    "clock = Clock('5:30')\n",
    "clock.print_time('10:30')"
   ]
  },
  {
   "cell_type": "code",
   "execution_count": 16,
   "metadata": {},
   "outputs": [
    {
     "name": "stdout",
     "output_type": "stream",
     "text": [
      "5:30\n",
      "10:30\n"
     ]
    }
   ],
   "source": [
    "#Question 3 Test\n",
    "class Clock():\n",
    "    def __init__(self, time):\n",
    "        self.time = time\n",
    "    def print_time(self):\n",
    "        print(self.time)\n",
    "\n",
    "class Clock1(Clock):\n",
    "    pass\n",
    "\n",
    "boston_clock = Clock('5:30')\n",
    "paris_clock = Clock1('10:30')\n",
    "\n",
    "boston_clock.print_time()\n",
    "paris_clock.print_time()"
   ]
  },
  {
   "cell_type": "code",
   "execution_count": 46,
   "metadata": {},
   "outputs": [
    {
     "name": "stdout",
     "output_type": "stream",
     "text": [
      "[5, 6]\n"
     ]
    }
   ],
   "source": [
    "#Question 4\n",
    "#create a class named \"Queue\"\n",
    "class Queue():\n",
    "#define the class as empty\n",
    "    def __init__(self):\n",
    "        self.line = []\n",
    "#define a function that will print the queue\n",
    "    def print(self):\n",
    "        print(self.line)\n",
    "#define a function that appends the queue to add a new person\n",
    "    def insert(self, person):\n",
    "        self.line.append(person)\n",
    "#define a function that appends the queue to remove the first person\n",
    "#or to let us know the queue is empty when no person is left\n",
    "    def remove(self):\n",
    "        if len(self.line)==0:\n",
    "            print(\"The queue is empty\")\n",
    "            return\n",
    "        else:\n",
    "            print(self.line[0], \"is next in line\")\n",
    "            self.line=self.line[1:]\n",
    "            return\n",
    "\n",
    "#test that the queue works by adding two people and printing\n",
    "queue=Queue()\n",
    "queue.insert(5)\n",
    "queue.insert(6)\n",
    "queue.print()"
   ]
  },
  {
   "cell_type": "code",
   "execution_count": 47,
   "metadata": {},
   "outputs": [
    {
     "name": "stdout",
     "output_type": "stream",
     "text": [
      "5 is next in line\n",
      "[6, 7]\n"
     ]
    }
   ],
   "source": [
    "#add another person and remove the first person in line\n",
    "queue.insert(7)\n",
    "queue.remove()\n",
    "queue.print()"
   ]
  },
  {
   "cell_type": "code",
   "execution_count": 48,
   "metadata": {},
   "outputs": [
    {
     "name": "stdout",
     "output_type": "stream",
     "text": [
      "6 is next in line\n",
      "7 is next in line\n",
      "The queue is empty\n"
     ]
    }
   ],
   "source": [
    "#remove everyone until no one is left in line\n",
    "queue.remove()\n",
    "queue.remove()\n",
    "queue.remove()"
   ]
  },
  {
   "cell_type": "code",
   "execution_count": null,
   "metadata": {},
   "outputs": [],
   "source": []
  }
 ],
 "metadata": {
  "kernelspec": {
   "display_name": "Python 3",
   "language": "python",
   "name": "python3"
  },
  "language_info": {
   "codemirror_mode": {
    "name": "ipython",
    "version": 3
   },
   "file_extension": ".py",
   "mimetype": "text/x-python",
   "name": "python",
   "nbconvert_exporter": "python",
   "pygments_lexer": "ipython3",
   "version": "3.8.5"
  }
 },
 "nbformat": 4,
 "nbformat_minor": 4
}
