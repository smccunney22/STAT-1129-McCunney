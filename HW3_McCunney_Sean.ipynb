{
 "cells": [
  {
   "cell_type": "code",
   "execution_count": 73,
   "metadata": {},
   "outputs": [
    {
     "name": "stdout",
     "output_type": "stream",
     "text": [
      "{'Andy': 88, 'Amy': 66, 'James': 90, 'Jules': 55, 'Arthur': 77}\n"
     ]
    }
   ],
   "source": [
    "#Question 0\n",
    "marks = {'Andy': 88, 'Amy': 66, 'James': 90, 'Jules': 55, 'Arthur': 77}\n",
    "print(marks)"
   ]
  },
  {
   "cell_type": "code",
   "execution_count": 74,
   "metadata": {},
   "outputs": [
    {
     "name": "stdout",
     "output_type": "stream",
     "text": [
      "Andy received a 88 as their grade\n",
      "Amy received a 66 as their grade\n",
      "James received a 90 as their grade\n",
      "Jules received a 55 as their grade\n",
      "Arthur received a 77 as their grade\n"
     ]
    }
   ],
   "source": [
    "#Question 1\n",
    "for student in marks:\n",
    "    print(student, \"received a\", marks[student], \"as their grade\")"
   ]
  },
  {
   "cell_type": "code",
   "execution_count": 75,
   "metadata": {},
   "outputs": [
    {
     "name": "stdout",
     "output_type": "stream",
     "text": [
      "The mean is 75.2\n",
      "The max is 90\n",
      "The min is 55\n"
     ]
    }
   ],
   "source": [
    "#Question 2\n",
    "scores = [v for _, v in marks.items()]\n",
    "average = sum(scores) / len(scores)\n",
    "print(\"The mean is\", average)\n",
    "maximum = max(scores)\n",
    "print(\"The max is\", maximum)\n",
    "minimum = min(scores)\n",
    "print(\"The min is\", minimum)"
   ]
  },
  {
   "cell_type": "code",
   "execution_count": 88,
   "metadata": {},
   "outputs": [
    {
     "name": "stdout",
     "output_type": "stream",
     "text": [
      "Andy\n",
      "Amy\n"
     ]
    }
   ],
   "source": [
    "#Question 3\n",
    "for key in marks:\n",
    "    if \"J\" in key:\n",
    "        break\n",
    "    else: \n",
    "        print(key)"
   ]
  },
  {
   "cell_type": "code",
   "execution_count": 89,
   "metadata": {},
   "outputs": [
    {
     "name": "stdout",
     "output_type": "stream",
     "text": [
      "Andy\n",
      "Amy\n",
      "Arthur\n"
     ]
    }
   ],
   "source": [
    "#Question 4\n",
    "for key in marks:\n",
    "    if \"J\" in key:\n",
    "        pass\n",
    "    else: \n",
    "        print(key)"
   ]
  },
  {
   "cell_type": "code",
   "execution_count": 94,
   "metadata": {},
   "outputs": [
    {
     "name": "stdout",
     "output_type": "stream",
     "text": [
      "Amy received a grade of 66\n",
      "I cannot find Sean in the list of students\n",
      "Jules received a grade of 55\n"
     ]
    }
   ],
   "source": [
    "#Question 5\n",
    "def printname(name):\n",
    "    if name in marks:\n",
    "        print(name, \"received a grade of\", marks[name])\n",
    "    else:\n",
    "        print(\"I cannot find\", name, \"in the list of students\")\n",
    "        \n",
    "printname(\"Amy\")\n",
    "printname(\"Sean\")\n",
    "printname(\"Jules\")"
   ]
  },
  {
   "cell_type": "code",
   "execution_count": null,
   "metadata": {},
   "outputs": [],
   "source": []
  }
 ],
 "metadata": {
  "kernelspec": {
   "display_name": "Python 3",
   "language": "python",
   "name": "python3"
  },
  "language_info": {
   "codemirror_mode": {
    "name": "ipython",
    "version": 3
   },
   "file_extension": ".py",
   "mimetype": "text/x-python",
   "name": "python",
   "nbconvert_exporter": "python",
   "pygments_lexer": "ipython3",
   "version": "3.8.5"
  }
 },
 "nbformat": 4,
 "nbformat_minor": 4
}
