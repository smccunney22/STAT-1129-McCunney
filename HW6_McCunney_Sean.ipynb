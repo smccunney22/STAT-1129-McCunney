{
 "cells": [
  {
   "cell_type": "code",
   "execution_count": 14,
   "metadata": {},
   "outputs": [
    {
     "name": "stdout",
     "output_type": "stream",
     "text": [
      "     [,1] [,2] [,3] [,4]\n",
      "[1,]   61  229  369  565\n",
      "[2,]   49  163  258  391\n"
     ]
    }
   ],
   "source": [
    "#Question 1\n",
    "m <- matrix(c(7,2,9,4,12,13), nrow = 2, ncol = 3)\n",
    "n <- matrix(c(1,2,3,7,8,9,12,13,14,19,20,21), nrow = 3, ncol = 4)\n",
    "print(m %*% n)"
   ]
  },
  {
   "cell_type": "code",
   "execution_count": 61,
   "metadata": {},
   "outputs": [
    {
     "data": {
      "text/html": [
       "<table>\n",
       "<thead><tr><th scope=col>id</th><th scope=col>name</th><th scope=col>salary</th></tr></thead>\n",
       "<tbody>\n",
       "\t<tr><td>1       </td><td>Peter   </td><td>623.30  </td></tr>\n",
       "\t<tr><td>2       </td><td>Amy     </td><td>515.20  </td></tr>\n",
       "\t<tr><td>3       </td><td>Ryan    </td><td>611.00  </td></tr>\n",
       "\t<tr><td>4       </td><td>Gary    </td><td>729.00  </td></tr>\n",
       "\t<tr><td>5       </td><td>Michelle</td><td>843.25  </td></tr>\n",
       "</tbody>\n",
       "</table>\n"
      ],
      "text/latex": [
       "\\begin{tabular}{r|lll}\n",
       " id & name & salary\\\\\n",
       "\\hline\n",
       "\t 1        & Peter    & 623.30  \\\\\n",
       "\t 2        & Amy      & 515.20  \\\\\n",
       "\t 3        & Ryan     & 611.00  \\\\\n",
       "\t 4        & Gary     & 729.00  \\\\\n",
       "\t 5        & Michelle & 843.25  \\\\\n",
       "\\end{tabular}\n"
      ],
      "text/markdown": [
       "\n",
       "| id | name | salary |\n",
       "|---|---|---|\n",
       "| 1        | Peter    | 623.30   |\n",
       "| 2        | Amy      | 515.20   |\n",
       "| 3        | Ryan     | 611.00   |\n",
       "| 4        | Gary     | 729.00   |\n",
       "| 5        | Michelle | 843.25   |\n",
       "\n"
      ],
      "text/plain": [
       "  id name     salary\n",
       "1 1  Peter    623.30\n",
       "2 2  Amy      515.20\n",
       "3 3  Ryan     611.00\n",
       "4 4  Gary     729.00\n",
       "5 5  Michelle 843.25"
      ]
     },
     "metadata": {},
     "output_type": "display_data"
    }
   ],
   "source": [
    "#Question 2(a)\n",
    "data_frame <- data.frame (\n",
    "    id = c(1, 2, 3, 4, 5),\n",
    "    name = c(\"Peter\", \"Amy\", \"Ryan\", \"Gary\", \"Michelle\"),\n",
    "    salary = c(623.30, 515.20, 611.00, 729.00, 843.25)\n",
    ")\n",
    "data_frame"
   ]
  },
  {
   "cell_type": "code",
   "execution_count": 19,
   "metadata": {},
   "outputs": [
    {
     "data": {
      "text/html": [
       "<table>\n",
       "<thead><tr><th scope=col>id</th><th scope=col>name</th><th scope=col>salary</th><th scope=col>department</th></tr></thead>\n",
       "<tbody>\n",
       "\t<tr><td>1         </td><td>Peter     </td><td>623.30    </td><td>IT        </td></tr>\n",
       "\t<tr><td>2         </td><td>Amy       </td><td>515.20    </td><td>finance   </td></tr>\n",
       "\t<tr><td>3         </td><td>Ryan      </td><td>611.00    </td><td>operations</td></tr>\n",
       "\t<tr><td>4         </td><td>Gary      </td><td>729.00    </td><td>marketing </td></tr>\n",
       "\t<tr><td>5         </td><td>Michelle  </td><td>843.25    </td><td>accounting</td></tr>\n",
       "</tbody>\n",
       "</table>\n"
      ],
      "text/latex": [
       "\\begin{tabular}{r|llll}\n",
       " id & name & salary & department\\\\\n",
       "\\hline\n",
       "\t 1          & Peter      & 623.30     & IT        \\\\\n",
       "\t 2          & Amy        & 515.20     & finance   \\\\\n",
       "\t 3          & Ryan       & 611.00     & operations\\\\\n",
       "\t 4          & Gary       & 729.00     & marketing \\\\\n",
       "\t 5          & Michelle   & 843.25     & accounting\\\\\n",
       "\\end{tabular}\n"
      ],
      "text/markdown": [
       "\n",
       "| id | name | salary | department |\n",
       "|---|---|---|---|\n",
       "| 1          | Peter      | 623.30     | IT         |\n",
       "| 2          | Amy        | 515.20     | finance    |\n",
       "| 3          | Ryan       | 611.00     | operations |\n",
       "| 4          | Gary       | 729.00     | marketing  |\n",
       "| 5          | Michelle   | 843.25     | accounting |\n",
       "\n"
      ],
      "text/plain": [
       "  id name     salary department\n",
       "1 1  Peter    623.30 IT        \n",
       "2 2  Amy      515.20 finance   \n",
       "3 3  Ryan     611.00 operations\n",
       "4 4  Gary     729.00 marketing \n",
       "5 5  Michelle 843.25 accounting"
      ]
     },
     "metadata": {},
     "output_type": "display_data"
    }
   ],
   "source": [
    "#Question 2(b)\n",
    "dept_names <- cbind(data_frame, department = c(\"IT\", \"finance\", \"operations\", \"marketing\", \"accounting\"))\n",
    "\n",
    "dept_names"
   ]
  },
  {
   "cell_type": "code",
   "execution_count": 20,
   "metadata": {
    "scrolled": true
   },
   "outputs": [
    {
     "data": {
      "text/html": [
       "<table>\n",
       "<thead><tr><th></th><th scope=col>name</th><th scope=col>salary</th></tr></thead>\n",
       "<tbody>\n",
       "\t<tr><th scope=row>1</th><td>Peter   </td><td>623.30  </td></tr>\n",
       "\t<tr><th scope=row>3</th><td>Ryan    </td><td>611.00  </td></tr>\n",
       "\t<tr><th scope=row>5</th><td>Michelle</td><td>843.25  </td></tr>\n",
       "</tbody>\n",
       "</table>\n"
      ],
      "text/latex": [
       "\\begin{tabular}{r|ll}\n",
       "  & name & salary\\\\\n",
       "\\hline\n",
       "\t1 & Peter    & 623.30  \\\\\n",
       "\t3 & Ryan     & 611.00  \\\\\n",
       "\t5 & Michelle & 843.25  \\\\\n",
       "\\end{tabular}\n"
      ],
      "text/markdown": [
       "\n",
       "| <!--/--> | name | salary |\n",
       "|---|---|---|\n",
       "| 1 | Peter    | 623.30   |\n",
       "| 3 | Ryan     | 611.00   |\n",
       "| 5 | Michelle | 843.25   |\n",
       "\n"
      ],
      "text/plain": [
       "  name     salary\n",
       "1 Peter    623.30\n",
       "3 Ryan     611.00\n",
       "5 Michelle 843.25"
      ]
     },
     "metadata": {},
     "output_type": "display_data"
    }
   ],
   "source": [
    "#Question 2(c)\n",
    "extract <- data_frame[c(1,3,5),c(2,3)]\n",
    "extract"
   ]
  },
  {
   "cell_type": "code",
   "execution_count": 56,
   "metadata": {},
   "outputs": [
    {
     "data": {
      "image/png": "[encoded data removed]",
      "text/plain": [
       "plot without title"
      ]
     },
     "metadata": {},
     "output_type": "display_data"
    }
   ],
   "source": [
    "#Question 2(d)\n",
    "x <- data_frame[c(1,4,5),c(2)]\n",
    "y <- data_frame[c(1,4,5),c(3)]\n",
    "\n",
    "barplot(y, names.arg = x, col = \"blue\")"
   ]
  },
  {
   "cell_type": "code",
   "execution_count": 66,
   "metadata": {},
   "outputs": [
    {
     "data": {
      "image/png": "[encoded data removed]",
      "text/plain": [
       "Plot with title \"Salaries\""
      ]
     },
     "metadata": {},
     "output_type": "display_data"
    }
   ],
   "source": [
    "max <- max(data_frame$salary)\n",
    "min <- min(data_frame$salary)\n",
    "med <- median(data_frame$salary)\n",
    "\n",
    "pieces <- c(max,min,med)\n",
    "labels <- c(\"Maximum Salary\", \"Minimum Salary\", \"Median Salary\")\n",
    "colors <- c(\"dark green\", \"purple\", \"orange\")\n",
    "\n",
    "pie(x=pieces, label=labels, main= \"Salaries\", col=colors)"
   ]
  },
  {
   "cell_type": "code",
   "execution_count": 67,
   "metadata": {},
   "outputs": [
    {
     "name": "stdout",
     "output_type": "stream",
     "text": [
      "[1] 1 0 0\n",
      "[1] 1 1 1\n",
      "[1] 0 1 1\n"
     ]
    },
    {
     "data": {
      "image/png": "[encoded data removed]",
      "text/plain": [
       "plot without title"
      ]
     },
     "metadata": {},
     "output_type": "display_data"
    },
    {
     "data": {
      "image/png": "[encoded data removed]",
      "text/plain": [
       "plot without title"
      ]
     },
     "metadata": {},
     "output_type": "display_data"
    },
    {
     "data": {
      "image/png": "[encoded data removed]",
      "text/plain": [
       "plot without title"
      ]
     },
     "metadata": {},
     "output_type": "display_data"
    },
    {
     "data": {
      "image/png": "[encoded data removed]",
      "text/plain": [
       "plot without title"
      ]
     },
     "metadata": {},
     "output_type": "display_data"
    },
    {
     "data": {
      "image/png": "[encoded data removed]",
      "text/plain": [
       "plot without title"
      ]
     },
     "metadata": {},
     "output_type": "display_data"
    },
    {
     "data": {
      "image/png": "[encoded data removed]",
      "text/plain": [
       "plot without title"
      ]
     },
     "metadata": {},
     "output_type": "display_data"
    },
    {
     "data": {
      "image/png": "[encoded data removed]",
      "text/plain": [
       "plot without title"
      ]
     },
     "metadata": {},
     "output_type": "display_data"
    }
   ],
   "source": [
    "#Question 3\n",
    "get_color <- function(color) {\n",
    "    if (color == \"red\") {\n",
    "        rgb <- c(1,0,0)\n",
    "    } \n",
    "    else if (color == \"white\") {\n",
    "        rgb <- c(1,1,1)\n",
    "    } \n",
    "    else if (color == \"blue\") {\n",
    "        rgb <- c(0,1,1)\n",
    "    } \n",
    "    else {\n",
    "        rgb <- c(0,0,0)\n",
    "    }\n",
    "}\n",
    "\n",
    "draw_star <- function(size, x=0, y=0) {\n",
    "    turtle_init(mode = \"clip\")\n",
    "    turtle_hide()\n",
    "    turtle_do({\n",
    "      for ( i in 1:5 ) {\n",
    "        turtle_forward(size)\n",
    "        turtle_left(144)\n",
    "  }\n",
    "})}\n",
    "\n",
    "print(get_color(\"red\"))\n",
    "print(get_color(\"white\"))\n",
    "print(get_color(\"blue\"))\n",
    "draw_star(25)"
   ]
  },
  {
   "cell_type": "code",
   "execution_count": null,
   "metadata": {},
   "outputs": [],
   "source": []
  }
 ],
 "metadata": {
  "kernelspec": {
   "display_name": "R",
   "language": "R",
   "name": "ir"
  },
  "language_info": {
   "codemirror_mode": "r",
   "file_extension": ".r",
   "mimetype": "text/x-r-source",
   "name": "R",
   "pygments_lexer": "r",
   "version": "3.6.1"
  }
 },
 "nbformat": 4,
 "nbformat_minor": 4
}
